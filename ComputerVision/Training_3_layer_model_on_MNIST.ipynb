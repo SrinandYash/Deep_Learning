{
 "cells": [
  {
   "cell_type": "markdown",
   "metadata": {},
   "source": [
    "# Contents\n",
    "<p>\n",
    "    <div class = \"lev1 toc-item\">\n",
    "        <a href = \"#Import-Data\" data-toc-modified-id=\"Import-Data-1\">\n",
    "            <span class=\"toc-item-num\">1&nbsp;&nbsp;</span>\n",
    "            Import Data\n",
    "        </a>\n",
    "    </div>\n",
    "    <div class = \"lev1 toc-item\">\n",
    "        <a href = \"#Build-Model\" data-toc-modified-id=\"Build-Model-2\">\n",
    "            <span class=\"toc-item-num\">2&nbsp;&nbsp;</span>\n",
    "            Build Model\n",
    "        </a>\n",
    "    </div>\n",
    "    <div class = \"lev1 toc-item\">\n",
    "        <a href = \"#Other-Functions\" data-toc-modified-id=\"Other-Functions-3\">\n",
    "            <span class=\"toc-item-num\">3&nbsp;&nbsp;</span>\n",
    "            Other Functions\n",
    "        </a>\n",
    "    </div>\n",
    "    <div class = \"lev1 toc-item\">\n",
    "        <a href = \"#Criterion-and-Optimizer\" data-toc-modified-id=\"Criterion-and-Optimizer-4\">\n",
    "            <span class=\"toc-item-num\">4&nbsp;&nbsp;</span>\n",
    "            Criterion and Optimizer\n",
    "        </a>\n",
    "    </div>\n",
    "    <div class = \"lev1 toc-item\">\n",
    "        <a href = \"#Training-the-Model\" data-toc-modified-id=\"Training-the-Model-5\">\n",
    "            <span class=\"toc-item-num\">5&nbsp;&nbsp;</span>\n",
    "            Training the Model\n",
    "        </a>\n",
    "    </div>"
   ]
  },
  {
   "cell_type": "code",
   "execution_count": 1,
   "metadata": {},
   "outputs": [],
   "source": [
    "import numpy as np\n",
    "import torch\n",
    "from torch import nn\n",
    "import torchvision\n",
    "import torch.nn.functional as F\n",
    "from torchvision import transforms\n",
    "from tqdm import trange\n",
    "import tqdm as tq\n",
    "import pandas as pd\n",
    "import sys"
   ]
  },
  {
   "cell_type": "markdown",
   "metadata": {},
   "source": [
    "# Import Data"
   ]
  },
  {
   "cell_type": "code",
   "execution_count": 2,
   "metadata": {},
   "outputs": [],
   "source": [
    "normalize = transforms.Normalize([0.485,0.456,0.406],[0.229,0.224,0.225])\n",
    "tfms = transforms.Compose([\n",
    "    transforms.ToTensor()\n",
    "])"
   ]
  },
  {
   "cell_type": "code",
   "execution_count": 3,
   "metadata": {},
   "outputs": [],
   "source": [
    "data = torchvision.datasets.MNIST(root='../data/', train=True, transform=tfms, download=False)\n",
    "test = torchvision.datasets.MNIST(root='../data/', train=False, transform=tfms, download=False)"
   ]
  },
  {
   "cell_type": "code",
   "execution_count": 4,
   "metadata": {},
   "outputs": [],
   "source": [
    "data_l = torch.utils.data.DataLoader(data, batch_size=64, num_workers=8, shuffle=True)\n",
    "test_l = torch.utils.data.DataLoader(test, batch_size=32, num_workers=8)"
   ]
  },
  {
   "cell_type": "markdown",
   "metadata": {},
   "source": [
    "# Build Model"
   ]
  },
  {
   "cell_type": "code",
   "execution_count": 5,
   "metadata": {},
   "outputs": [],
   "source": [
    "def conv3(in_c, out_c, k=3, p=1, s=1):\n",
    "    return nn.Conv2d(in_channels=in_c, out_channels=out_c, kernel_size=(k,k), padding=(p,p), stride=s, bias=False)"
   ]
  },
  {
   "cell_type": "code",
   "execution_count": 6,
   "metadata": {},
   "outputs": [],
   "source": [
    "class ConvNet(nn.Module):\n",
    "    def __init__(self, c):\n",
    "        super().__init__()\n",
    "        self.conv1 = conv3(1, 16)\n",
    "        self.conv2 = conv3(16, 32)\n",
    "        self.conv3 = conv3(32, 64)\n",
    "        self.max = nn.MaxPool2d(kernel_size=2)\n",
    "        self.relu = nn.ReLU()\n",
    "        self.ada  = nn.AdaptiveAvgPool2d(8)\n",
    "        self.lin = nn.Linear(32*8*8, c)\n",
    "        \n",
    "        for m in self.modules():\n",
    "            if isinstance(m, nn.Conv2d):\n",
    "                nn.init.normal_(m.weight)\n",
    "        \n",
    "    def forward(self, x):\n",
    "        out = self.max(self.relu(self.conv1(x)))\n",
    "        out = self.max(self.relu(self.conv2(out)))\n",
    "        out = self.ada(out)\n",
    "        out = out.view(out.shape[0], -1)\n",
    "        return self.lin(out)"
   ]
  },
  {
   "cell_type": "code",
   "execution_count": 7,
   "metadata": {},
   "outputs": [],
   "source": [
    "model = ConvNet(10)"
   ]
  },
  {
   "cell_type": "code",
   "execution_count": 8,
   "metadata": {},
   "outputs": [],
   "source": [
    "model = model.cuda()"
   ]
  },
  {
   "cell_type": "markdown",
   "metadata": {},
   "source": [
    "# Other Functions"
   ]
  },
  {
   "cell_type": "code",
   "execution_count": 9,
   "metadata": {},
   "outputs": [],
   "source": [
    "def V(x, rg): return torch.autograd.Variable(x, requires_grad=rg)"
   ]
  },
  {
   "cell_type": "code",
   "execution_count": 10,
   "metadata": {},
   "outputs": [],
   "source": [
    "def accuracy (preds,targ):\n",
    "    preds = torch.max(preds, dim=1)[1]\n",
    "    return (preds == targ).float().mean()"
   ]
  },
  {
   "cell_type": "code",
   "execution_count": 12,
   "metadata": {},
   "outputs": [],
   "source": [
    "def close_tqdm():\n",
    "    inst = getattr(tq.tqdm, '_instances', None)\n",
    "    if not inst: return None\n",
    "    else:\n",
    "        try:\n",
    "            for i in range(len(inst)): inst.pop().close()\n",
    "        except Exception:\n",
    "            pass\n",
    "\n",
    "def tqdm(*args, **kwargs):\n",
    "    close_tqdm()\n",
    "    return tq.tqdm(*args, file=sys.stdout, **kwargs)"
   ]
  },
  {
   "cell_type": "markdown",
   "metadata": {},
   "source": [
    "# Criterion and Optimizer"
   ]
  },
  {
   "cell_type": "code",
   "execution_count": 11,
   "metadata": {},
   "outputs": [],
   "source": [
    "crit = nn.CrossEntropyLoss()\n",
    "opt = torch.optim.SGD(model.parameters(), lr=1e-2)"
   ]
  },
  {
   "cell_type": "markdown",
   "metadata": {},
   "source": [
    "# Training the Model"
   ]
  },
  {
   "cell_type": "code",
   "execution_count": 15,
   "metadata": {},
   "outputs": [],
   "source": [
    "def train(loader, val, model, crit, opt, epochs):\n",
    "    acc = 0.\n",
    "    avg_l = 0.\n",
    "    avg_t = 0.\n",
    "    for epoch in range(1,epochs+1):\n",
    "        tot = len(loader)\n",
    "        t = tqdm(iter(loader), total=tot)\n",
    "        i=0\n",
    "        for (*inp, targ) in t:\n",
    "            i += 1\n",
    "            inp = inp[0]\n",
    "            if torch.cuda.is_available():\n",
    "                inp = inp.cuda()\n",
    "            \n",
    "            inp = V(inp, False)\n",
    "            targ = V(targ, False)\n",
    "            \n",
    "            opt.zero_grad()\n",
    "            \n",
    "            out = model(inp)\n",
    "            out = out.cpu()\n",
    "            \n",
    "            loss = crit(out, targ)\n",
    "            loss.backward()\n",
    "            opt.step()\n",
    "            \n",
    "            avg_l = (avg_l*i + loss.data)/(i+1)\n",
    "            t.set_description('Loss = {l:.3f}; '\n",
    "                              'Accuracy: {a:.3f} '.format(l=avg_l.tolist(),\n",
    "                                                           a=acc\n",
    "                                                          )\n",
    "                             )\n",
    "            t.update(1)\n",
    "            if i%100== 0:\n",
    "                tot = len(val.dataset)\n",
    "                correct = 0\n",
    "                for _, (inp, targ) in enumerate(val):\n",
    "                    inp = V(inp, False).cuda()\n",
    "                    targ = V(targ, False)\n",
    "                    out = model(inp)\n",
    "                    out = out.cpu()#.view(targ.shape)\n",
    "                    pred = torch.max(out.data, dim=1)[1]\n",
    "                    correct += (pred == targ).sum().float()\n",
    "                    correct = correct.tolist()\n",
    "                acc = correct*100.0/tot"
   ]
  },
  {
   "cell_type": "code",
   "execution_count": 16,
   "metadata": {
    "scrolled": false
   },
   "outputs": [
    {
     "name": "stdout",
     "output_type": "stream",
     "text": [
      "Loss = 0.101; Accuracy: 97.020 : 100%|██████████| 938/938 [00:11<00:00, 84.13it/s] \n",
      "Loss = 0.087; Accuracy: 97.390 : 100%|██████████| 938/938 [00:11<00:00, 71.39it/s] \n"
     ]
    }
   ],
   "source": [
    "train(data_l, test_l, model, crit, opt, 2)"
   ]
  },
  {
   "cell_type": "code",
   "execution_count": null,
   "metadata": {},
   "outputs": [],
   "source": []
  }
 ],
 "metadata": {
  "kernelspec": {
   "display_name": "Python 3",
   "language": "python",
   "name": "python3"
  },
  "language_info": {
   "codemirror_mode": {
    "name": "ipython",
    "version": 3
   },
   "file_extension": ".py",
   "mimetype": "text/x-python",
   "name": "python",
   "nbconvert_exporter": "python",
   "pygments_lexer": "ipython3",
   "version": "3.6.0"
  }
 },
 "nbformat": 4,
 "nbformat_minor": 2
}
